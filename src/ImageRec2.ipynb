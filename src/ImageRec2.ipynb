{
  "cells": [
    {
      "cell_type": "markdown",
      "metadata": {
        "id": "view-in-github",
        "colab_type": "text"
      },
      "source": [
        "<a href=\"https://colab.research.google.com/github/grzabrodskiy/ImageRec/blob/main/src/ImageRec2.ipynb\" target=\"_parent\"><img src=\"https://colab.research.google.com/assets/colab-badge.svg\" alt=\"Open In Colab\"/></a>"
      ]
    },
    {
      "cell_type": "markdown",
      "metadata": {
        "id": "6rVDkKZEEKIp"
      },
      "source": [
        "Preparing to use **Google Colab**\n",
        "\n",
        "Based on the course labs\n",
        "\n"
      ]
    },
    {
      "cell_type": "markdown",
      "metadata": {
        "id": "4lr9HMqlCJ7k"
      },
      "source": [
        "# Preparing Data Storage"
      ]
    },
    {
      "cell_type": "markdown",
      "metadata": {
        "id": "ISE0pBnS6nC6"
      },
      "source": [
        "1. Setting up the device"
      ]
    },
    {
      "cell_type": "code",
      "execution_count": null,
      "metadata": {
        "colab": {
          "base_uri": "https://localhost:8080/"
        },
        "id": "W-vsUDzAJwUU",
        "outputId": "dc69d2fb-e3fd-4fe4-c054-136c0b82006e"
      },
      "outputs": [
        {
          "output_type": "stream",
          "name": "stdout",
          "text": [
            "cuda:0\n"
          ]
        }
      ],
      "source": [
        "import torch\n",
        "\n",
        "device = torch.device(\"cuda:0\" if torch.cuda.is_available() else \"cpu\")\n",
        "\n",
        "# Assuming that we are on a CUDA machine, this should print a CUDA device:\n",
        "print(device)"
      ]
    },
    {
      "cell_type": "markdown",
      "metadata": {
        "id": "VJy9xDAo4lFv"
      },
      "source": [
        "2. Mount Gooogle Drive"
      ]
    },
    {
      "cell_type": "code",
      "execution_count": null,
      "metadata": {
        "colab": {
          "base_uri": "https://localhost:8080/"
        },
        "id": "Kl3ZyAAVEKI1",
        "outputId": "3ad56ad5-16ca-48b8-aa8a-76bc0b51c7ef"
      },
      "outputs": [
        {
          "output_type": "stream",
          "name": "stdout",
          "text": [
            "Mounted at /content/drive\n"
          ]
        }
      ],
      "source": [
        "from google.colab import drive\n",
        "drive.mount('/content/drive', force_remount=True)"
      ]
    },
    {
      "cell_type": "markdown",
      "metadata": {
        "id": "RxIKS3ukEKI2"
      },
      "source": [
        "3. Setting up the directories"
      ]
    },
    {
      "cell_type": "code",
      "execution_count": null,
      "metadata": {
        "id": "28VgE7dMEKI2"
      },
      "outputs": [],
      "source": [
        "import os\n",
        "\n",
        "GOOGLE_DRIVE_PATH = os.path.join('drive', 'My Drive', 'School')\n"
      ]
    },
    {
      "cell_type": "markdown",
      "metadata": {
        "id": "y8uW7rLrB11z"
      },
      "source": [
        "4. Unzipoing the dataset"
      ]
    },
    {
      "cell_type": "code",
      "execution_count": null,
      "metadata": {
        "colab": {
          "base_uri": "https://localhost:8080/"
        },
        "id": "ViNfh2MiM0Bw",
        "outputId": "1f7c8419-7c03-40e4-98f3-95f61b6c4eaf"
      },
      "outputs": [
        {
          "output_type": "stream",
          "name": "stdout",
          "text": [
            "labels\tREADME.txt  test  train  val\n"
          ]
        }
      ],
      "source": [
        "# Identify path to zipped dataset\n",
        "zip_path = os.path.join(GOOGLE_DRIVE_PATH, 'CW_Dataset.zip')\n",
        "# Copy it to Colab\n",
        "!cp '{zip_path}' .\n",
        "\n",
        "# Unzip it (removing useless files stored in the zip)\n",
        "!unzip -q -o CW_Dataset.zip -d CW_Dataset\n",
        "\n",
        "!ls CW_Dataset"
      ]
    },
    {
      "cell_type": "markdown",
      "metadata": {
        "id": "JM213-yyeoAP"
      },
      "source": [
        "# Setting up datasets"
      ]
    },
    {
      "cell_type": "markdown",
      "metadata": {
        "id": "wEO5XznBMBkV"
      },
      "source": [
        "# 1: Transfer Learning\n",
        "\n",
        "In this first part, we will learn how to train a convolutional neural network for\n",
        "image classification using **transfer learning**. We have briefly encountered this concept in a previous lecture, but you can read more about it on these [note pages](https://cs231n.github.io/transfer-learning/).\n",
        "\n",
        "Quoting these notes,\n",
        "\n",
        "> In practice, very few people train an entire Convolutional Network from scratch (with random initialization), because it is relatively rare to have a dataset of sufficient size. Instead, it is common to pretrain a ConvNet on a very large dataset (e.g. ImageNet, which contains 1.2 million images with 1000 categories), and then use the ConvNet either as an initialization or a fixed feature extractor for the task of interest.\n",
        "\n",
        "These two major transfer learning scenarios look as follows:\n",
        "-  **Finetuning the CNN**: instead of random initialization, we\n",
        "   initialize the network with a pretrained network, like the one that is trained on ImageNet. Since we will very likely have a different number of categories compared to the 1000 of ImageNet, we will usually need to replace the final fully-connected layer with a new one (with random weights) having the correct number of neurons. Then the rest of the training looks as usual.\n",
        "-  **CNN as fixed feature extractor**: here, we will freeze the weights for all of the network except that of the final fully-connected layer, which will be replaced with a new one (with random weights and the correct number of neurons) as in the previous case. Only this layer is trained. The coding for this second approach will constitute a Task."
      ]
    },
    {
      "cell_type": "code",
      "execution_count": null,
      "metadata": {
        "id": "A9WuXUHGbfCB"
      },
      "outputs": [],
      "source": [
        "# License: BSD\n",
        "# Author: Sasank Chilamkurthy\n",
        "# Modified by: Giacomo Tarroni\n",
        "# Modified by: Greg Zabrodskiy\n",
        "\n",
        "import torch\n",
        "import torch.nn as nn\n",
        "import torch.optim as optim\n",
        "from torch.optim import lr_scheduler\n",
        "import numpy as np\n",
        "import torchvision\n",
        "from torchvision import datasets, models, transforms\n",
        "import matplotlib.pyplot as plt\n",
        "import time\n",
        "import copy\n",
        "import shutil\n",
        "from torchvision.utils import make_grid\n",
        "import random\n",
        "\n",
        "\n",
        "%matplotlib inline"
      ]
    },
    {
      "cell_type": "markdown",
      "metadata": {
        "id": "7QNr7As4bfCC"
      },
      "source": [
        "## Loading the Data\n",
        "\n",
        "\n"
      ]
    },
    {
      "cell_type": "code",
      "execution_count": null,
      "metadata": {
        "id": "nvmWknrc0vdV"
      },
      "outputs": [],
      "source": [
        "#data_dir = 'CW_Dataset'\n",
        "#data_means = [0.485, 0.456, 0.406]\n",
        "#data_stds = [0.229, 0.224, 0.225]\n"
      ]
    },
    {
      "cell_type": "markdown",
      "metadata": {
        "id": "7nyt-c1h0wp-"
      },
      "source": [
        "The `data_means` and `data_stds` are lists with the means and standard deviations of the pixel intensities of the three colour channels in the dataset, respectively. They will be useful to normalize the images to the [-1, 1] range that is best used with training CNNs.\n",
        "\n",
        "Data transformation is going to be different between training and validation phases:"
      ]
    },
    {
      "cell_type": "code",
      "execution_count": null,
      "metadata": {
        "id": "hlZIqC6rbfCC"
      },
      "outputs": [],
      "source": [
        "# Data augmentation and normalization for training\n",
        "# Just normalization for validation and testing\n",
        "data_transforms = {\n",
        "\n",
        "  \n",
        "    'train': transforms.Compose([\n",
        "        transforms.RandomResizedCrop(224),\n",
        "        transforms.Grayscale(num_output_channels=3),\n",
        "\n",
        "        transforms.RandomHorizontalFlip(),\n",
        "        transforms.ToTensor(),\n",
        "        transforms.Normalize(0.5, 0.5)\n",
        "    ]),\n",
        "    'val': transforms.Compose([\n",
        "        transforms.Resize(256),\n",
        "        transforms.CenterCrop(224),\n",
        "        transforms.ToTensor(),\n",
        "        transforms.Normalize(0.5, 0.5, inplace=True)\n",
        "    ]),\n",
        "    'test': transforms.Compose([\n",
        "        transforms.Resize(256),\n",
        "        transforms.CenterCrop(224),\n",
        "        transforms.ToTensor(),\n",
        "        transforms.Normalize(0.5, 0.5, inplace=True)\n",
        "    ]),\n",
        "}"
      ]
    },
    {
      "cell_type": "markdown",
      "metadata": {
        "id": "PO14Mpn9Cw7i"
      },
      "source": [
        "Set up label names"
      ]
    },
    {
      "cell_type": "code",
      "execution_count": null,
      "metadata": {
        "id": "WJIul9dE2hSZ"
      },
      "outputs": [],
      "source": [
        "class_names = ['Surprise', 'Fear', 'Disgust', 'Happiness', 'Sadness', 'Anger', 'Neutral']"
      ]
    },
    {
      "cell_type": "markdown",
      "metadata": {
        "id": "rj_mOvdWC2cT"
      },
      "source": [
        "Create directory structure for pytorch standard loader"
      ]
    },
    {
      "cell_type": "code",
      "execution_count": null,
      "metadata": {
        "id": "Nu8bko921RXf"
      },
      "outputs": [],
      "source": [
        "files = {}\n",
        "for t in ['test', 'train', 'val']:\n",
        "  for n in range (0, 7):\n",
        "    dirpath = f'CW_Dataset/{t}/sorted/' + class_names[n]\n",
        "    if os.path.exists(dirpath) and os.path.isdir(dirpath):\n",
        "      shutil.rmtree(dirpath)\n",
        "    os.makedirs(dirpath, exist_ok=True)\n"
      ]
    },
    {
      "cell_type": "code",
      "execution_count": null,
      "metadata": {
        "id": "ORDgrmlQvtO2"
      },
      "outputs": [],
      "source": [
        "\n",
        "val_data_size = 0.2 # use this percent value of train data for validation\n",
        "\n",
        "for t in ['test', 'train']:\n",
        "  files[t] = np.genfromtxt(f'CW_Dataset/labels/list_label_{t}.txt',dtype='str')\n",
        "\n",
        "  for fl in files[t]:\n",
        "    if fl[0].endswith('.jpg'):\n",
        "      if (t == 'train') and (random.uniform(0, 1) < val_data_size):\n",
        "        shutil.copy2(f'CW_Dataset/{t}/' + fl[0][:-4] + '_aligned.jpg', f'CW_Dataset/val/sorted/' + class_names[int(fl[1])-1] + '/' + fl[0][:-4] +  '_aligned.jpg')\n",
        "      else:\n",
        "        shutil.copy2(f'CW_Dataset/{t}/' + fl[0][:-4] + '_aligned.jpg', f'CW_Dataset/{t}/sorted/' + class_names[int(fl[1])-1] + '/' + fl[0][:-4] +  '_aligned.jpg')\n"
      ]
    },
    {
      "cell_type": "markdown",
      "metadata": {
        "id": "Lf3oEowBMKWc"
      },
      "source": [
        "Set up datasets and dataloaders"
      ]
    },
    {
      "cell_type": "code",
      "execution_count": null,
      "metadata": {
        "id": "dkUpF9xtMRfv"
      },
      "outputs": [],
      "source": [
        "image_dataset = {}\n",
        "dataloader = {}\n",
        "for t in ['test', 'train', 'val']:\n",
        "\n",
        "  image_dataset[t] = datasets.ImageFolder(f'/content/CW_Dataset/{t}/sorted', data_transforms[t])\n",
        "\n",
        "  dataloader[t] = torch.utils.data.DataLoader(image_dataset[t], batch_size=4,\n",
        "                                             shuffle=True, num_workers=2)\n",
        "            "
      ]
    },
    {
      "cell_type": "markdown",
      "metadata": {
        "id": "z4Wwspe8LRS6"
      },
      "source": [
        "Note that here both `image_datasets` and `dataloaders` have been created as dictionaries, with two elements representing the training and validation datasets, respectively.\n",
        "\n",
        "We can also define the following variables, which will be of use for the rest of the code:"
      ]
    },
    {
      "cell_type": "code",
      "execution_count": null,
      "metadata": {
        "colab": {
          "base_uri": "https://localhost:8080/"
        },
        "id": "lheMzW24AWiV",
        "outputId": "89e2a52c-ef21-423d-bf99-8f2fedf4b9ca"
      },
      "outputs": [
        {
          "output_type": "stream",
          "name": "stdout",
          "text": [
            "{'train': 9818, 'test': 3068, 'val': 2453}\n",
            "['Anger', 'Disgust', 'Fear', 'Happiness', 'Neutral', 'Sadness', 'Surprise']\n"
          ]
        }
      ],
      "source": [
        "dataset_sizes = {x: len(image_dataset[x]) for x in ['train', 'test', 'val']}\n",
        "print(dataset_sizes)\n",
        "class_names = image_dataset['train'].classes\n",
        "print(class_names)"
      ]
    },
    {
      "cell_type": "markdown",
      "metadata": {
        "id": "h-p86mISbfCD"
      },
      "source": [
        "## Visualizing some images\n"
      ]
    },
    {
      "cell_type": "code",
      "execution_count": null,
      "metadata": {
        "colab": {
          "base_uri": "https://localhost:8080/",
          "height": 485
        },
        "id": "Xjx_yyX9bfCD",
        "outputId": "2140328e-6047-4101-ec69-2ea07949645f"
      },
      "outputs": [
        {
          "output_type": "display_data",
          "data": {
            "text/plain": [
              "<Figure size 360x720 with 1 Axes>"
            ],
            "image/png": "[encoded data removed]"
          },
          "metadata": {
            "needs_background": "light"
          }
        },
        {
          "output_type": "display_data",
          "data": {
            "text/plain": [
              "<Figure size 360x720 with 1 Axes>"
            ],
            "image/png": "[encoded data removed]"
          },
          "metadata": {
            "needs_background": "light"
          }
        },
        {
          "output_type": "display_data",
          "data": {
            "text/plain": [
              "<Figure size 360x720 with 1 Axes>"
            ],
            "image/png": "[encoded data removed]"
          },
          "metadata": {
            "needs_background": "light"
          }
        },
        {
          "output_type": "display_data",
          "data": {
            "text/plain": [
              "<Figure size 360x720 with 1 Axes>"
            ],
            "image/png": "[encoded data removed]"
          },
          "metadata": {
            "needs_background": "light"
          }
        }
      ],
      "source": [
        "def imshow(inp, title=None):\n",
        "    \"\"\"Imshow for Tensor.\"\"\"\n",
        "    inp = inp.numpy().transpose((1, 2, 0))\n",
        "    inp = np.asarray(0.5) * inp + np.asarray(0.5)\n",
        "    inp = np.clip(inp, 0, 1)       # Clip to intensity outliers to [0, 1] range\n",
        "    plt.imshow(inp)\n",
        "    plt.title(title)\n",
        "\n",
        "\n",
        "# Get a batch of training data\n",
        "for i in range (0, 4):\n",
        "  inputs, classes = next(iter(dataloader['train']))\n",
        "\n",
        "  # Make a grid from batch\n",
        "  out = torchvision.utils.make_grid(inputs)\n",
        "\n",
        "  plt.figure(figsize=(5, 10))\n",
        "  imshow(out, title=[class_names[x] for x in classes])\n",
        "  plt.show()"
      ]
    },
    {
      "cell_type": "markdown",
      "metadata": {
        "id": "z73UHkcfbfCD"
      },
      "source": [
        "## Training the model\n",
        "\n",
        "Now, let's write a general function to train a model. The function will:\n",
        "\n",
        "- Run for a given number of epochs\n",
        "- For each epoch, there will be a training phase (where the model will be updated from the previous epoch) and a validation phase (where it will be applied to the validation set for prediction)\n",
        "- Save the best model (based on the performance on the validation set)\n",
        "\n",
        "Importantly, we will also **schedule the learning rate** (LR) (i.e. change it during training). In the function, the parameter ``scheduler`` is an LR scheduler object from [``torch.optim.lr_scheduler``](https://pytorch.org/docs/stable/optim.html#how-to-adjust-learning-rate)."
      ]
    },
    {
      "cell_type": "code",
      "execution_count": null,
      "metadata": {
        "id": "BNx6bsBqbfCE"
      },
      "outputs": [],
      "source": [
        "def train_model(model, criterion, optimizer, scheduler, num_epochs=10):\n",
        "    since = time.time()\n",
        "\n",
        "    best_model_wts = copy.deepcopy(model.state_dict())\n",
        "    best_acc = 0.0\n",
        "\n",
        "    for epoch in range(num_epochs):\n",
        "        print(f\"Epoch {epoch + 1} out of {num_epochs}\")\n",
        "\n",
        "        # Each epoch has a training and validation phase\n",
        "        for phase in ['train', 'val']:\n",
        "            if phase == 'train':\n",
        "                model.train()  # Set model to training mode\n",
        "            else:\n",
        "                model.eval()   # Set model to evaluate mode\n",
        "\n",
        "            running_loss = 0.0\n",
        "            running_corrects = 0\n",
        "\n",
        "            # Iterate over data\n",
        "            for inputs, labels in dataloader[phase]:\n",
        "                # move data to GPU\n",
        "                inputs = inputs.to(device)\n",
        "                labels = labels.to(device)\n",
        "\n",
        "                # zero the parameter gradients\n",
        "                optimizer.zero_grad()\n",
        "\n",
        "                # forward\n",
        "                # track history if only in train\n",
        "                with torch.set_grad_enabled(phase == 'train'):\n",
        "                    outputs = model(inputs)\n",
        "                    _, preds = torch.max(outputs, 1)\n",
        "                    loss = criterion(outputs, labels)\n",
        "\n",
        "                    # backward + optimize only if in training phase\n",
        "                    if phase == 'train':\n",
        "                        loss.backward()\n",
        "                        optimizer.step()\n",
        "\n",
        "                # statistics\n",
        "                running_loss += loss.item() * inputs.size(0)\n",
        "                running_corrects += torch.sum(preds == labels.data)\n",
        "\n",
        "            # update learning rate with scheduler\n",
        "            if phase == 'train':\n",
        "                scheduler.step()\n",
        "\n",
        "            epoch_loss = running_loss / dataset_sizes[phase]\n",
        "            epoch_acc = running_corrects.double() / dataset_sizes[phase]\n",
        "\n",
        "            print(f\"{phase} loss: {epoch_loss:.4f} acc: {epoch_acc:.4f}\")\n",
        "\n",
        "            # deep copy the model with best accuracy on validation set\n",
        "            if phase == 'val' and epoch_acc > best_acc:\n",
        "                best_acc = epoch_acc\n",
        "                best_model_wts = copy.deepcopy(model.state_dict())\n",
        "\n",
        "        print()\n",
        "\n",
        "    time_elapsed = time.time() - since\n",
        "    print(f\"Training complete in {time_elapsed // 60:.0f}m {time_elapsed % 60:.0f}s\")\n",
        "    print(f\"Best val acc: {best_acc:4f}\")\n",
        "\n",
        "    # load best model weights\n",
        "    model.load_state_dict(best_model_wts)\n",
        "    return model"
      ]
    },
    {
      "cell_type": "markdown",
      "metadata": {
        "id": "XV5uZ2Q3bfCE"
      },
      "source": [
        "## Visualizing the model predictions\n",
        "\n",
        "Let's also define a generic function to use the model to predict the classes of a few images (from the validation set) and to visualize the results:"
      ]
    },
    {
      "cell_type": "code",
      "execution_count": null,
      "metadata": {
        "id": "cUXwo_wLbfCF"
      },
      "outputs": [],
      "source": [
        "def visualize_model(model, num_images=10):\n",
        "    was_training = model.training\n",
        "    model.eval()\n",
        "    images_so_far = 0\n",
        "\n",
        "    with torch.no_grad():\n",
        "        for i, (inputs, labels) in enumerate(dataloader['test']):\n",
        "            inputs = inputs.to(device)\n",
        "            labels = labels.to(device)\n",
        "\n",
        "            outputs = model(inputs)\n",
        "            _, preds = torch.max(outputs, 1)\n",
        "            \n",
        "            for j in range(inputs.size()[0]):\n",
        "              images_so_far += 1\n",
        "              ax = plt.subplot(1, num_images, images_so_far)\n",
        "              ax.axis('off')\n",
        "              ax.set_title(f\"{class_names[preds[j]]}\")\n",
        "              print(f\"Predicted for image {images_so_far}: {class_names[preds[j]]}\")\n",
        "              imshow(inputs.cpu().data[j])        # move back the data to the CPU for visualisation\n",
        "\n",
        "              if images_so_far == num_images:\n",
        "                  model.train(mode=was_training)\n",
        "                  return\n",
        "        model.train(mode=was_training)"
      ]
    },
    {
      "cell_type": "markdown",
      "metadata": {
        "id": "6xhOx3r2bfCG"
      },
      "source": [
        "## Finetuning the CNN\n",
        "\n",
        "Finetuning a CNN consists in taking a model (i.e. **architecture and weights**) pre-trained on a given dataset (very often ImageNet) and using it as a starting point for training on a different dataset. The steps involved in finetuning are the following:\n",
        "\n",
        "1. Load a pre-trained model\n",
        "2. Reset the final layer (technically needed only if the number of classes is different between the two datasets, but generally always a good idea)\n",
        "3. Perform training on the new dataset\n",
        "\n",
        "In this example, we will first download the *ResNet18* model from the model zoo of `torchvision` (more information on how this works can be found [here](https://pytorch.org/vision/stable/models.html)). Then, we will reset the last fully-connected layer and perform training on our own dataset.\n",
        "\n",
        "Download the pre-trained model:"
      ]
    },
    {
      "cell_type": "code",
      "execution_count": null,
      "metadata": {
        "id": "UAavKIqrXp87",
        "colab": {
          "base_uri": "https://localhost:8080/",
          "height": 67,
          "referenced_widgets": [
            "538dbc46317645228876953fdae23091",
            "fbf6fb767fef490884addba76a8f1e1f",
            "ecdab5d4f5da4f0294a6eb3b164a5761",
            "838722ba87ed440393bae0eebe1d37f1",
            "6a701faa5fbd40cc8bb00e4d8c27d215",
            "e60666a8143e4e9886b355e2503d938b",
            "9548a70a5d514138a801c5c274c1df7d",
            "b6b209bfa3ca4569b8417addf4f5b572",
            "425a027d5454433caf2a60975646147f",
            "a7a59b083f8b4202a0bc90575014337f",
            "88abe63505644a8c92dcdad11ed990c8"
          ]
        },
        "outputId": "e9909e38-0add-4fc6-db50-047327859e0d"
      },
      "outputs": [
        {
          "output_type": "stream",
          "name": "stderr",
          "text": [
            "Downloading: \"https://download.pytorch.org/models/resnet18-f37072fd.pth\" to /root/.cache/torch/hub/checkpoints/resnet18-f37072fd.pth\n"
          ]
        },
        {
          "output_type": "display_data",
          "data": {
            "text/plain": [
              "  0%|          | 0.00/44.7M [00:00<?, ?B/s]"
            ],
            "application/vnd.jupyter.widget-view+json": {
              "version_major": 2,
              "version_minor": 0,
              "model_id": "538dbc46317645228876953fdae23091"
            }
          },
          "metadata": {}
        }
      ],
      "source": [
        "model_ft = models.resnet18(pretrained=True)"
      ]
    },
    {
      "cell_type": "markdown",
      "metadata": {
        "id": "r4TE-1pWXr50"
      },
      "source": [
        "Create a new fully-connected layer and use it to replace the original one of *Resnet18*. It will need to have the same input dimensions as the original one, but have an output size equal to the number of classes in our dataset:"
      ]
    },
    {
      "cell_type": "code",
      "execution_count": null,
      "metadata": {
        "id": "vCxTIXQgbfCG"
      },
      "outputs": [],
      "source": [
        "num_ftrs = model_ft.fc.in_features\n",
        "model_ft.fc = nn.Linear(num_ftrs, 7)"
      ]
    },
    {
      "cell_type": "markdown",
      "metadata": {
        "id": "AnCSlWHbYC8W"
      },
      "source": [
        "Then we can move the model to the GPU and set the remaining training parameters and criterion (i.e. the loss function):"
      ]
    },
    {
      "cell_type": "code",
      "execution_count": null,
      "metadata": {
        "colab": {
          "base_uri": "https://localhost:8080/"
        },
        "id": "UOIKRauadzYX",
        "outputId": "845573ee-6795-486b-861d-05cd0f69ac61"
      },
      "outputs": [
        {
          "output_type": "stream",
          "name": "stdout",
          "text": [
            "cuda:0\n"
          ]
        }
      ],
      "source": [
        "print(device)\n",
        "\n",
        "model_ft = model_ft.to(device)\n",
        "\n",
        "criterion = nn.CrossEntropyLoss()\n",
        "\n",
        "# Observe that all parameters are being optimized\n",
        "optimizer_ft = optim.SGD(model_ft.parameters(), lr=0.001, momentum=0.9)\n",
        "\n",
        "# Decay LR by a factor of 0.1 every 7 epochs\n",
        "exp_lr_scheduler = lr_scheduler.StepLR(optimizer_ft, step_size=7, gamma=0.1)"
      ]
    },
    {
      "cell_type": "markdown",
      "metadata": {
        "id": "svaPxyjObfCG"
      },
      "source": [
        "## Train and evaluate\n",
        "\n",
        "Now we can actually train our model. It should take around 15-25 min on CPU. On GPU though, it takes less than a minute."
      ]
    },
    {
      "cell_type": "code",
      "execution_count": null,
      "metadata": {
        "colab": {
          "base_uri": "https://localhost:8080/"
        },
        "id": "gNOS5Q1XbfCH",
        "outputId": "cb5dbdc1-72ac-4bbb-b77c-d5e0eefea735"
      },
      "outputs": [
        {
          "output_type": "stream",
          "name": "stdout",
          "text": [
            "Epoch 1 out of 10\n",
            "train loss: 1.6469 acc: 0.4195\n",
            "val loss: 1.1814 acc: 0.5976\n",
            "\n",
            "Epoch 2 out of 10\n",
            "train loss: 1.3721 acc: 0.5174\n",
            "val loss: 0.9929 acc: 0.6596\n",
            "\n",
            "Epoch 3 out of 10\n",
            "train loss: 1.2525 acc: 0.5562\n",
            "val loss: 1.0259 acc: 0.6364\n",
            "\n",
            "Epoch 4 out of 10\n",
            "train loss: 1.1488 acc: 0.5998\n",
            "val loss: 0.7732 acc: 0.7391\n",
            "\n",
            "Epoch 5 out of 10\n",
            "train loss: 1.0595 acc: 0.6237\n",
            "val loss: 0.8362 acc: 0.7077\n",
            "\n",
            "Epoch 6 out of 10\n",
            "train loss: 1.0315 acc: 0.6340\n",
            "val loss: 0.6787 acc: 0.7668\n",
            "\n",
            "Epoch 7 out of 10\n",
            "train loss: 0.9848 acc: 0.6558\n",
            "val loss: 0.6740 acc: 0.7717\n",
            "\n",
            "Epoch 8 out of 10\n",
            "train loss: 0.8715 acc: 0.6916\n",
            "val loss: 0.5773 acc: 0.8011\n",
            "\n",
            "Epoch 9 out of 10\n",
            "train loss: 0.8242 acc: 0.7083\n",
            "val loss: 0.5672 acc: 0.8076\n",
            "\n",
            "Epoch 10 out of 10\n",
            "train loss: 0.8145 acc: 0.7160\n",
            "val loss: 0.5454 acc: 0.8096\n",
            "\n",
            "Training complete in 11m 15s\n",
            "Best val acc: 0.809621\n"
          ]
        }
      ],
      "source": [
        "model_ft = train_model(model_ft, criterion, optimizer_ft, exp_lr_scheduler,\n",
        "                       num_epochs=10)"
      ]
    },
    {
      "cell_type": "markdown",
      "metadata": {
        "id": "lBed0LclYdCt"
      },
      "source": [
        "Let's test our final result on some images:"
      ]
    },
    {
      "cell_type": "code",
      "execution_count": null,
      "metadata": {
        "colab": {
          "base_uri": "https://localhost:8080/",
          "height": 248
        },
        "id": "xY3plJKmbfCI",
        "outputId": "e04517df-82df-4f3b-a23e-82554813647b"
      },
      "outputs": [
        {
          "output_type": "stream",
          "name": "stdout",
          "text": [
            "Predicted for image 1: Happiness\n",
            "Predicted for image 2: Neutral\n",
            "Predicted for image 3: Happiness\n",
            "Predicted for image 4: Happiness\n",
            "Predicted for image 5: Happiness\n",
            "Predicted for image 6: Happiness\n",
            "Predicted for image 7: Happiness\n",
            "Predicted for image 8: Happiness\n",
            "Predicted for image 9: Surprise\n",
            "Predicted for image 10: Sadness\n"
          ]
        },
        {
          "output_type": "display_data",
          "data": {
            "text/plain": [
              "<Figure size 576x432 with 10 Axes>"
            ],
            "image/png": "[encoded data removed]"
          },
          "metadata": {
            "needs_background": "light"
          }
        }
      ],
      "source": [
        "plt.figure(figsize=(8, 6))\n",
        "visualize_model(model_ft, 10)\n",
        "plt.show()"
      ]
    },
    {
      "cell_type": "code",
      "execution_count": null,
      "metadata": {
        "id": "nNQ1QIzmGb0b"
      },
      "outputs": [],
      "source": [
        "torch.save(model_ft.state_dict(), 'CNN.pth')"
      ]
    },
    {
      "cell_type": "markdown",
      "metadata": {
        "id": "akYzvJSHGglF"
      },
      "source": [
        "You should now see the model file in the *Files* folder in the toolbar on the left side. \n",
        "\n",
        "PyTorch offers other ways to achieve model persistence and also provides an easy way to **load directly on CPU models that were trained on GPU** (allowing testing on machines without acceleration). To learn more about these topics, make sure to visit this [tutorial](https://pytorch.org/tutorials/beginner/saving_loading_models.html)."
      ]
    }
  ],
  "metadata": {
    "accelerator": "GPU",
    "colab": {
      "collapsed_sections": [],
      "name": "ImageRec2.ipynb",
      "provenance": [],
      "include_colab_link": true
    },
    "kernelspec": {
      "display_name": "Python 3",
      "language": "python",
      "name": "python3"
    },
    "language_info": {
      "codemirror_mode": {
        "name": "ipython",
        "version": 3
      },
      "file_extension": ".py",
      "mimetype": "text/x-python",
      "name": "python",
      "nbconvert_exporter": "python",
      "pygments_lexer": "ipython3",
      "version": "3.7.5"
    },
    "widgets": {
      "application/vnd.jupyter.widget-state+json": {
        "538dbc46317645228876953fdae23091": {
          "model_module": "@jupyter-widgets/controls",
          "model_name": "HBoxModel",
          "model_module_version": "1.5.0",
          "state": {
            "_dom_classes": [],
            "_model_module": "@jupyter-widgets/controls",
            "_model_module_version": "1.5.0",
            "_model_name": "HBoxModel",
            "_view_count": null,
            "_view_module": "@jupyter-widgets/controls",
            "_view_module_version": "1.5.0",
            "_view_name": "HBoxView",
            "box_style": "",
            "children": [
              "IPY_MODEL_fbf6fb767fef490884addba76a8f1e1f",
              "IPY_MODEL_ecdab5d4f5da4f0294a6eb3b164a5761",
              "IPY_MODEL_838722ba87ed440393bae0eebe1d37f1"
            ],
            "layout": "IPY_MODEL_6a701faa5fbd40cc8bb00e4d8c27d215"
          }
        },
        "fbf6fb767fef490884addba76a8f1e1f": {
          "model_module": "@jupyter-widgets/controls",
          "model_name": "HTMLModel",
          "model_module_version": "1.5.0",
          "state": {
            "_dom_classes": [],
            "_model_module": "@jupyter-widgets/controls",
            "_model_module_version": "1.5.0",
            "_model_name": "HTMLModel",
            "_view_count": null,
            "_view_module": "@jupyter-widgets/controls",
            "_view_module_version": "1.5.0",
            "_view_name": "HTMLView",
            "description": "",
            "description_tooltip": null,
            "layout": "IPY_MODEL_e60666a8143e4e9886b355e2503d938b",
            "placeholder": "​",
            "style": "IPY_MODEL_9548a70a5d514138a801c5c274c1df7d",
            "value": "100%"
          }
        },
        "ecdab5d4f5da4f0294a6eb3b164a5761": {
          "model_module": "@jupyter-widgets/controls",
          "model_name": "FloatProgressModel",
          "model_module_version": "1.5.0",
          "state": {
            "_dom_classes": [],
            "_model_module": "@jupyter-widgets/controls",
            "_model_module_version": "1.5.0",
            "_model_name": "FloatProgressModel",
            "_view_count": null,
            "_view_module": "@jupyter-widgets/controls",
            "_view_module_version": "1.5.0",
            "_view_name": "ProgressView",
            "bar_style": "success",
            "description": "",
            "description_tooltip": null,
            "layout": "IPY_MODEL_b6b209bfa3ca4569b8417addf4f5b572",
            "max": 46830571,
            "min": 0,
            "orientation": "horizontal",
            "style": "IPY_MODEL_425a027d5454433caf2a60975646147f",
            "value": 46830571
          }
        },
        "838722ba87ed440393bae0eebe1d37f1": {
          "model_module": "@jupyter-widgets/controls",
          "model_name": "HTMLModel",
          "model_module_version": "1.5.0",
          "state": {
            "_dom_classes": [],
            "_model_module": "@jupyter-widgets/controls",
            "_model_module_version": "1.5.0",
            "_model_name": "HTMLModel",
            "_view_count": null,
            "_view_module": "@jupyter-widgets/controls",
            "_view_module_version": "1.5.0",
            "_view_name": "HTMLView",
            "description": "",
            "description_tooltip": null,
            "layout": "IPY_MODEL_a7a59b083f8b4202a0bc90575014337f",
            "placeholder": "​",
            "style": "IPY_MODEL_88abe63505644a8c92dcdad11ed990c8",
            "value": " 44.7M/44.7M [00:00&lt;00:00, 49.8MB/s]"
          }
        },
        "6a701faa5fbd40cc8bb00e4d8c27d215": {
          "model_module": "@jupyter-widgets/base",
          "model_name": "LayoutModel",
          "model_module_version": "1.2.0",
          "state": {
            "_model_module": "@jupyter-widgets/base",
            "_model_module_version": "1.2.0",
            "_model_name": "LayoutModel",
            "_view_count": null,
            "_view_module": "@jupyter-widgets/base",
            "_view_module_version": "1.2.0",
            "_view_name": "LayoutView",
            "align_content": null,
            "align_items": null,
            "align_self": null,
            "border": null,
            "bottom": null,
            "display": null,
            "flex": null,
            "flex_flow": null,
            "grid_area": null,
            "grid_auto_columns": null,
            "grid_auto_flow": null,
            "grid_auto_rows": null,
            "grid_column": null,
            "grid_gap": null,
            "grid_row": null,
            "grid_template_areas": null,
            "grid_template_columns": null,
            "grid_template_rows": null,
            "height": null,
            "justify_content": null,
            "justify_items": null,
            "left": null,
            "margin": null,
            "max_height": null,
            "max_width": null,
            "min_height": null,
            "min_width": null,
            "object_fit": null,
            "object_position": null,
            "order": null,
            "overflow": null,
            "overflow_x": null,
            "overflow_y": null,
            "padding": null,
            "right": null,
            "top": null,
            "visibility": null,
            "width": null
          }
        },
        "e60666a8143e4e9886b355e2503d938b": {
          "model_module": "@jupyter-widgets/base",
          "model_name": "LayoutModel",
          "model_module_version": "1.2.0",
          "state": {
            "_model_module": "@jupyter-widgets/base",
            "_model_module_version": "1.2.0",
            "_model_name": "LayoutModel",
            "_view_count": null,
            "_view_module": "@jupyter-widgets/base",
            "_view_module_version": "1.2.0",
            "_view_name": "LayoutView",
            "align_content": null,
            "align_items": null,
            "align_self": null,
            "border": null,
            "bottom": null,
            "display": null,
            "flex": null,
            "flex_flow": null,
            "grid_area": null,
            "grid_auto_columns": null,
            "grid_auto_flow": null,
            "grid_auto_rows": null,
            "grid_column": null,
            "grid_gap": null,
            "grid_row": null,
            "grid_template_areas": null,
            "grid_template_columns": null,
            "grid_template_rows": null,
            "height": null,
            "justify_content": null,
            "justify_items": null,
            "left": null,
            "margin": null,
            "max_height": null,
            "max_width": null,
            "min_height": null,
            "min_width": null,
            "object_fit": null,
            "object_position": null,
            "order": null,
            "overflow": null,
            "overflow_x": null,
            "overflow_y": null,
            "padding": null,
            "right": null,
            "top": null,
            "visibility": null,
            "width": null
          }
        },
        "9548a70a5d514138a801c5c274c1df7d": {
          "model_module": "@jupyter-widgets/controls",
          "model_name": "DescriptionStyleModel",
          "model_module_version": "1.5.0",
          "state": {
            "_model_module": "@jupyter-widgets/controls",
            "_model_module_version": "1.5.0",
            "_model_name": "DescriptionStyleModel",
            "_view_count": null,
            "_view_module": "@jupyter-widgets/base",
            "_view_module_version": "1.2.0",
            "_view_name": "StyleView",
            "description_width": ""
          }
        },
        "b6b209bfa3ca4569b8417addf4f5b572": {
          "model_module": "@jupyter-widgets/base",
          "model_name": "LayoutModel",
          "model_module_version": "1.2.0",
          "state": {
            "_model_module": "@jupyter-widgets/base",
            "_model_module_version": "1.2.0",
            "_model_name": "LayoutModel",
            "_view_count": null,
            "_view_module": "@jupyter-widgets/base",
            "_view_module_version": "1.2.0",
            "_view_name": "LayoutView",
            "align_content": null,
            "align_items": null,
            "align_self": null,
            "border": null,
            "bottom": null,
            "display": null,
            "flex": null,
            "flex_flow": null,
            "grid_area": null,
            "grid_auto_columns": null,
            "grid_auto_flow": null,
            "grid_auto_rows": null,
            "grid_column": null,
            "grid_gap": null,
            "grid_row": null,
            "grid_template_areas": null,
            "grid_template_columns": null,
            "grid_template_rows": null,
            "height": null,
            "justify_content": null,
            "justify_items": null,
            "left": null,
            "margin": null,
            "max_height": null,
            "max_width": null,
            "min_height": null,
            "min_width": null,
            "object_fit": null,
            "object_position": null,
            "order": null,
            "overflow": null,
            "overflow_x": null,
            "overflow_y": null,
            "padding": null,
            "right": null,
            "top": null,
            "visibility": null,
            "width": null
          }
        },
        "425a027d5454433caf2a60975646147f": {
          "model_module": "@jupyter-widgets/controls",
          "model_name": "ProgressStyleModel",
          "model_module_version": "1.5.0",
          "state": {
            "_model_module": "@jupyter-widgets/controls",
            "_model_module_version": "1.5.0",
            "_model_name": "ProgressStyleModel",
            "_view_count": null,
            "_view_module": "@jupyter-widgets/base",
            "_view_module_version": "1.2.0",
            "_view_name": "StyleView",
            "bar_color": null,
            "description_width": ""
          }
        },
        "a7a59b083f8b4202a0bc90575014337f": {
          "model_module": "@jupyter-widgets/base",
          "model_name": "LayoutModel",
          "model_module_version": "1.2.0",
          "state": {
            "_model_module": "@jupyter-widgets/base",
            "_model_module_version": "1.2.0",
            "_model_name": "LayoutModel",
            "_view_count": null,
            "_view_module": "@jupyter-widgets/base",
            "_view_module_version": "1.2.0",
            "_view_name": "LayoutView",
            "align_content": null,
            "align_items": null,
            "align_self": null,
            "border": null,
            "bottom": null,
            "display": null,
            "flex": null,
            "flex_flow": null,
            "grid_area": null,
            "grid_auto_columns": null,
            "grid_auto_flow": null,
            "grid_auto_rows": null,
            "grid_column": null,
            "grid_gap": null,
            "grid_row": null,
            "grid_template_areas": null,
            "grid_template_columns": null,
            "grid_template_rows": null,
            "height": null,
            "justify_content": null,
            "justify_items": null,
            "left": null,
            "margin": null,
            "max_height": null,
            "max_width": null,
            "min_height": null,
            "min_width": null,
            "object_fit": null,
            "object_position": null,
            "order": null,
            "overflow": null,
            "overflow_x": null,
            "overflow_y": null,
            "padding": null,
            "right": null,
            "top": null,
            "visibility": null,
            "width": null
          }
        },
        "88abe63505644a8c92dcdad11ed990c8": {
          "model_module": "@jupyter-widgets/controls",
          "model_name": "DescriptionStyleModel",
          "model_module_version": "1.5.0",
          "state": {
            "_model_module": "@jupyter-widgets/controls",
            "_model_module_version": "1.5.0",
            "_model_name": "DescriptionStyleModel",
            "_view_count": null,
            "_view_module": "@jupyter-widgets/base",
            "_view_module_version": "1.2.0",
            "_view_name": "StyleView",
            "description_width": ""
          }
        }
      }
    }
  },
  "nbformat": 4,
  "nbformat_minor": 0
}